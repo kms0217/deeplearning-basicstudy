{
 "cells": [
  {
   "cell_type": "code",
   "execution_count": 1,
   "id": "friendly-filing",
   "metadata": {},
   "outputs": [
    {
     "name": "stdout",
     "output_type": "stream",
     "text": [
      "Epoch    0/1000 Cost: 0.693147\n",
      "Epoch  100/1000 Cost: 0.134722\n",
      "Epoch  200/1000 Cost: 0.080643\n",
      "Epoch  300/1000 Cost: 0.057900\n",
      "Epoch  400/1000 Cost: 0.045300\n",
      "Epoch  500/1000 Cost: 0.037261\n",
      "Epoch  600/1000 Cost: 0.031672\n",
      "Epoch  700/1000 Cost: 0.027556\n",
      "Epoch  800/1000 Cost: 0.024394\n",
      "Epoch  900/1000 Cost: 0.021888\n",
      "Epoch 1000/1000 Cost: 0.019852\n"
     ]
    }
   ],
   "source": [
    "import torch\n",
    "import torch.nn.functional as F\n",
    "import torch.optim as optim\n",
    "import torch.nn as nn\n",
    "\n",
    "x_data = [[1,2],[2,3],[3,1],[4,3],[5,3],[6,2]]\n",
    "y_data = [[0],[0],[0],[1],[1],[1]]\n",
    "\n",
    "x_train = torch.FloatTensor(x_data)\n",
    "y_train = torch.FloatTensor(y_data)\n",
    "\n",
    "W = torch.zeros((2, 1), requires_grad=True)\n",
    "b = torch.zeros(1, requires_grad=True)\n",
    "\n",
    "optimizer = optim.SGD([W,b], lr=1)\n",
    "\n",
    "nb_epochs = 1000\n",
    "for epoch in range(nb_epochs + 1):\n",
    "    hypothesis = torch.sigmoid(x_train.matmul(W) + b)\n",
    "    cost = F.binary_cross_entropy(hypothesis, y_train)\n",
    "    \n",
    "    optimizer.zero_grad() # 기존에 구해놓은 Gradient를 초기화, 초기화하지않으면 기존 Gradient에 더하게됨\n",
    "    cost.backward() # 위에서 구해놓은 cost에서 역전파 수행, W,b의 Gradient계산\n",
    "    optimizer.step() # cost를 최소화하는 방향으로 위에서 계산한 Gradinet를 사용해 W,b를 업데이트\n",
    "    \n",
    "    if not epoch % 100 :\n",
    "        print(f\"Epoch {epoch:4d}/{nb_epochs} Cost: {cost.item():.6f}\")"
   ]
  },
  {
   "cell_type": "markdown",
   "id": "sized-independence",
   "metadata": {},
   "source": [
    "### BinaryClassifier Class"
   ]
  },
  {
   "cell_type": "code",
   "execution_count": 2,
   "id": "applicable-worthy",
   "metadata": {},
   "outputs": [
    {
     "name": "stdout",
     "output_type": "stream",
     "text": [
      "Epoch    0/1000 Cost: 0.693311\n",
      "Epoch  100/1000 Cost: 0.139421\n",
      "Epoch  200/1000 Cost: 0.082259\n",
      "Epoch  300/1000 Cost: 0.058714\n",
      "Epoch  400/1000 Cost: 0.045791\n",
      "Epoch  500/1000 Cost: 0.037590\n",
      "Epoch  600/1000 Cost: 0.031909\n",
      "Epoch  700/1000 Cost: 0.027734\n",
      "Epoch  800/1000 Cost: 0.024533\n",
      "Epoch  900/1000 Cost: 0.022000\n",
      "Epoch 1000/1000 Cost: 0.019944\n"
     ]
    }
   ],
   "source": [
    "class BinaryClassifier(nn.Module):\n",
    "    def __init__(self):\n",
    "        super().__init__()\n",
    "        self.linear = nn.Linear(2,1) # W, b 입력 2, out 1\n",
    "        self.sigmoid = nn.Sigmoid()\n",
    "        \n",
    "    def forward(self, x):\n",
    "        return self.sigmoid(self.linear(x))\n",
    "    \n",
    "model = BinaryClassifier()\n",
    "optimizer = optim.SGD(model.parameters(), lr=1)\n",
    "\n",
    "nb_epochs = 1000\n",
    "for epoch in range(nb_epochs + 1):\n",
    "    hypothesis = model(x_train)\n",
    "    cost = F.binary_cross_entropy(hypothesis, y_train)\n",
    "    \n",
    "    optimizer.zero_grad()\n",
    "    cost.backward()\n",
    "    optimizer.step()\n",
    "    \n",
    "    if not epoch % 100 :\n",
    "        print(f\"Epoch {epoch:4d}/{nb_epochs} Cost: {cost.item():.6f}\")"
   ]
  },
  {
   "cell_type": "code",
   "execution_count": null,
   "id": "moral-wings",
   "metadata": {},
   "outputs": [],
   "source": []
  }
 ],
 "metadata": {
  "kernelspec": {
   "display_name": "Python 3",
   "language": "python",
   "name": "python3"
  },
  "language_info": {
   "codemirror_mode": {
    "name": "ipython",
    "version": 3
   },
   "file_extension": ".py",
   "mimetype": "text/x-python",
   "name": "python",
   "nbconvert_exporter": "python",
   "pygments_lexer": "ipython3",
   "version": "3.7.9"
  }
 },
 "nbformat": 4,
 "nbformat_minor": 5
}
