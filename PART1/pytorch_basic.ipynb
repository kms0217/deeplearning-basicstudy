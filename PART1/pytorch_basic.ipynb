{
 "cells": [
  {
   "cell_type": "markdown",
   "id": "rational-invalid",
   "metadata": {},
   "source": [
    "### dim, shape, size"
   ]
  },
  {
   "cell_type": "code",
   "execution_count": 2,
   "id": "novel-mozambique",
   "metadata": {},
   "outputs": [
    {
     "name": "stdout",
     "output_type": "stream",
     "text": [
      "2\n",
      "torch.Size([3, 3])\n",
      "torch.Size([3, 3])\n"
     ]
    }
   ],
   "source": [
    "import torch\n",
    "\n",
    "t = torch.FloatTensor([[0, 1, 2], [3, 4, 5], [6, 7, 8]])\n",
    "print(t.dim())\n",
    "print(t.shape)\n",
    "print(t.size())"
   ]
  },
  {
   "cell_type": "markdown",
   "id": "lucky-monkey",
   "metadata": {},
   "source": [
    "### matmul"
   ]
  },
  {
   "cell_type": "code",
   "execution_count": 3,
   "id": "protected-salvation",
   "metadata": {},
   "outputs": [
    {
     "data": {
      "text/plain": [
       "tensor([[ 8., 11.],\n",
       "        [23., 35.],\n",
       "        [38., 59.]])"
      ]
     },
     "execution_count": 3,
     "metadata": {},
     "output_type": "execute_result"
    }
   ],
   "source": [
    "m1 = torch.FloatTensor([[0., 1., 2.,],[ 3., 4., 5.],[ 6.,7.,8.,]])\n",
    "m2 = torch.FloatTensor([[0,1],[2,3],[3,4]])\n",
    "m1.matmul(m2)"
   ]
  },
  {
   "cell_type": "markdown",
   "id": "backed-opportunity",
   "metadata": {},
   "source": [
    "### mean"
   ]
  },
  {
   "cell_type": "code",
   "execution_count": 4,
   "id": "covered-expert",
   "metadata": {},
   "outputs": [
    {
     "name": "stdout",
     "output_type": "stream",
     "text": [
      "tensor(2.5000)\n",
      "tensor([2., 3.])\n",
      "tensor([1.5000, 3.5000])\n",
      "tensor([1.5000, 3.5000])\n"
     ]
    }
   ],
   "source": [
    "t = torch.FloatTensor([[1,2],[3,4]])\n",
    "print(t.mean())\n",
    "print(t.mean(dim=0)) # 0번축 기준으로 mean계산\n",
    "print(t.mean(dim=1)) # 1번축 기준으로 mean계산\n",
    "print(t.mean(dim=-1)) # 마지막 축 기준으로 mean계산"
   ]
  },
  {
   "cell_type": "markdown",
   "id": "possible-scene",
   "metadata": {},
   "source": [
    "### squeeze"
   ]
  },
  {
   "cell_type": "code",
   "execution_count": 5,
   "id": "respective-following",
   "metadata": {},
   "outputs": [
    {
     "name": "stdout",
     "output_type": "stream",
     "text": [
      "torch.Size([3, 1])\n",
      "tensor([1., 2., 3.])\n",
      "torch.Size([3])\n"
     ]
    }
   ],
   "source": [
    "f = torch.FloatTensor([[1],[2],[3]])\n",
    "print(f.shape)\n",
    "\n",
    "f = f.squeeze()\n",
    "print(f)\n",
    "print(f.shape)"
   ]
  },
  {
   "cell_type": "markdown",
   "id": "super-colorado",
   "metadata": {},
   "source": [
    "### unsqueeze"
   ]
  },
  {
   "cell_type": "code",
   "execution_count": 7,
   "id": "touched-gabriel",
   "metadata": {},
   "outputs": [
    {
     "name": "stdout",
     "output_type": "stream",
     "text": [
      "torch.Size([3])\n",
      "torch.Size([1, 3])\n",
      "tensor([[1., 2., 3.]])\n",
      "torch.Size([3, 1])\n",
      "tensor([[1.],\n",
      "        [2.],\n",
      "        [3.]])\n"
     ]
    }
   ],
   "source": [
    "f = torch.FloatTensor([1,2,3])\n",
    "print(f.shape)\n",
    "\n",
    "f1 = f.unsqueeze(0)\n",
    "print(f1.shape)\n",
    "print(f1)\n",
    "\n",
    "f2 = f.unsqueeze(1)\n",
    "print(f2.shape)\n",
    "print(f2)"
   ]
  },
  {
   "cell_type": "markdown",
   "id": "north-press",
   "metadata": {},
   "source": [
    "### type casting"
   ]
  },
  {
   "cell_type": "code",
   "execution_count": 8,
   "id": "opened-opera",
   "metadata": {},
   "outputs": [
    {
     "name": "stdout",
     "output_type": "stream",
     "text": [
      "torch.FloatTensor\n",
      "torch.FloatTensor\n",
      "torch.ByteTensor\n",
      "torch.LongTensor\n"
     ]
    }
   ],
   "source": [
    "a = torch.LongTensor([1,2,3,4,5])\n",
    "b = torch.ByteTensor([True, False])\n",
    "print(a.float().type())\n",
    "print(b.float().type())\n",
    "print(a.byte().type())\n",
    "print(b.long().type())"
   ]
  },
  {
   "cell_type": "markdown",
   "id": "supposed-stockholm",
   "metadata": {},
   "source": [
    "### stack"
   ]
  },
  {
   "cell_type": "code",
   "execution_count": 9,
   "id": "pleased-depth",
   "metadata": {},
   "outputs": [
    {
     "name": "stdout",
     "output_type": "stream",
     "text": [
      "tensor([[1., 2.],\n",
      "        [3., 4.],\n",
      "        [5., 6.]])\n",
      "tensor([[1., 3., 5.],\n",
      "        [2., 4., 6.]])\n"
     ]
    }
   ],
   "source": [
    "x = torch.FloatTensor([1,2])\n",
    "y = torch.FloatTensor([3,4])\n",
    "z = torch.FloatTensor([5,6])\n",
    "\n",
    "print(torch.stack([x,y,z]))\n",
    "print(torch.stack([x,y,z], dim=1))"
   ]
  },
  {
   "cell_type": "markdown",
   "id": "norwegian-allowance",
   "metadata": {},
   "source": [
    "### like function"
   ]
  },
  {
   "cell_type": "code",
   "execution_count": 10,
   "id": "desirable-black",
   "metadata": {},
   "outputs": [
    {
     "name": "stdout",
     "output_type": "stream",
     "text": [
      "tensor([1., 1.])\n",
      "tensor([0., 0.])\n"
     ]
    }
   ],
   "source": [
    "x = torch.ones_like(x)\n",
    "y = torch.zeros_like(y)\n",
    "print(x)\n",
    "print(y)"
   ]
  },
  {
   "cell_type": "markdown",
   "id": "pressing-saint",
   "metadata": {},
   "source": [
    "### in-place operation"
   ]
  },
  {
   "cell_type": "code",
   "execution_count": 11,
   "id": "small-personal",
   "metadata": {},
   "outputs": [
    {
     "name": "stdout",
     "output_type": "stream",
     "text": [
      "tensor([[1., 2.],\n",
      "        [3., 4.]])\n",
      "tensor([[2., 4.],\n",
      "        [6., 8.]])\n"
     ]
    }
   ],
   "source": [
    "x = torch.FloatTensor([[1,2],[3,4,]])\n",
    "x.mul(2) # 원본 x는 변화 없이 결과 반환만 됨\n",
    "print(x)\n",
    "x.mul_(2) # 원본 x자체가 변함\n",
    "print(x)"
   ]
  },
  {
   "cell_type": "code",
   "execution_count": null,
   "id": "scientific-natural",
   "metadata": {},
   "outputs": [],
   "source": []
  }
 ],
 "metadata": {
  "kernelspec": {
   "display_name": "Python 3",
   "language": "python",
   "name": "python3"
  },
  "language_info": {
   "codemirror_mode": {
    "name": "ipython",
    "version": 3
   },
   "file_extension": ".py",
   "mimetype": "text/x-python",
   "name": "python",
   "nbconvert_exporter": "python",
   "pygments_lexer": "ipython3",
   "version": "3.7.9"
  }
 },
 "nbformat": 4,
 "nbformat_minor": 5
}
