{
 "cells": [
  {
   "cell_type": "code",
   "execution_count": 1,
   "id": "sustainable-camel",
   "metadata": {},
   "outputs": [
    {
     "name": "stdout",
     "output_type": "stream",
     "text": [
      "반복    0/10, W : 0.000, Cost : 4.667\n",
      "반복    1/10, W : 0.933, Cost : 0.021\n",
      "반복    2/10, W : 0.996, Cost : 0.000\n",
      "반복    3/10, W : 1.000, Cost : 0.000\n",
      "반복    4/10, W : 1.000, Cost : 0.000\n",
      "반복    5/10, W : 1.000, Cost : 0.000\n",
      "반복    6/10, W : 1.000, Cost : 0.000\n",
      "반복    7/10, W : 1.000, Cost : 0.000\n",
      "반복    8/10, W : 1.000, Cost : 0.000\n",
      "반복    9/10, W : 1.000, Cost : 0.000\n",
      "반복   10/10, W : 1.000, Cost : 0.000\n"
     ]
    }
   ],
   "source": [
    "import torch\n",
    "\n",
    "x_train = torch.FloatTensor([[1],[2],[3]])\n",
    "y_train = torch.FloatTensor([[1],[2],[3]])\n",
    "\n",
    "# 모델 초기화\n",
    "W = torch.zeros(1)\n",
    "\n",
    "lr = 0.1\n",
    "\n",
    "nb_epochs = 10\n",
    "for epoch in range(nb_epochs + 1):\n",
    "\t# H(x) 계산\n",
    "\thypothesis = x_train * W\n",
    "\t\n",
    "\t# cost gradient 계산\n",
    "\tcost = torch.mean((hypothesis - y_train) **2)\n",
    "\tgradient = 2 * torch.mean((W*x_train - y_train) * x_train)\n",
    "\tprint(f\"반복 {epoch:4}/{nb_epochs}, W : {W.item():.3f}, Cost : {cost:.3f}\")\n",
    "\n",
    "    # W update\n",
    "\tW -= lr * gradient"
   ]
  },
  {
   "cell_type": "markdown",
   "id": "yellow-humanitarian",
   "metadata": {},
   "source": [
    "### using torch.optim"
   ]
  },
  {
   "cell_type": "code",
   "execution_count": 2,
   "id": "appropriate-simulation",
   "metadata": {},
   "outputs": [
    {
     "name": "stdout",
     "output_type": "stream",
     "text": [
      "반복    0/10, W : 0.000, Cost : 4.667\n",
      "반복    1/10, W : 0.933, Cost : 0.021\n",
      "반복    2/10, W : 0.996, Cost : 0.000\n",
      "반복    3/10, W : 1.000, Cost : 0.000\n",
      "반복    4/10, W : 1.000, Cost : 0.000\n",
      "반복    5/10, W : 1.000, Cost : 0.000\n",
      "반복    6/10, W : 1.000, Cost : 0.000\n",
      "반복    7/10, W : 1.000, Cost : 0.000\n",
      "반복    8/10, W : 1.000, Cost : 0.000\n",
      "반복    9/10, W : 1.000, Cost : 0.000\n",
      "반복   10/10, W : 1.000, Cost : 0.000\n"
     ]
    }
   ],
   "source": [
    "import torch\n",
    "#데이터 설정\n",
    "x_train = torch.FloatTensor([[1],[2],[3]])\n",
    "y_train = torch.FloatTensor([[1],[2],[3]])\n",
    "\n",
    "# 모델 초기화\n",
    "W = torch.zeros(1, requires_grad=True)\n",
    "\n",
    "optimizer = torch.optim.SGD([W], lr=0.1) # Optimizer 정의\n",
    "\n",
    "nb_epochs = 10\n",
    "for epoch in range(nb_epochs + 1):\n",
    "\t# H(x) 계산\n",
    "\thypothesis = x_train * W\n",
    "\t\n",
    "\t# cost gradient 계산\n",
    "\tcost = torch.mean((hypothesis - y_train) **2)\n",
    "\n",
    "\tprint(f\"반복 {epoch:4}/{nb_epochs}, W : {W.item():.3f}, Cost : {cost:.3f}\")\n",
    "\n",
    "\t# cost로 H(x)개선\n",
    "\toptimizer.zero_grad() # gradient를 0으로 초기화\n",
    "\tcost.backward() # gradient계산\n",
    "\toptimizer.step() # gradient descent"
   ]
  },
  {
   "cell_type": "code",
   "execution_count": null,
   "id": "literary-twenty",
   "metadata": {},
   "outputs": [],
   "source": []
  }
 ],
 "metadata": {
  "kernelspec": {
   "display_name": "Python 3",
   "language": "python",
   "name": "python3"
  },
  "language_info": {
   "codemirror_mode": {
    "name": "ipython",
    "version": 3
   },
   "file_extension": ".py",
   "mimetype": "text/x-python",
   "name": "python",
   "nbconvert_exporter": "python",
   "pygments_lexer": "ipython3",
   "version": "3.7.9"
  }
 },
 "nbformat": 4,
 "nbformat_minor": 5
}
