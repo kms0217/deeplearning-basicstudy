{
 "cells": [
  {
   "cell_type": "code",
   "execution_count": 1,
   "id": "saved-render",
   "metadata": {},
   "outputs": [],
   "source": [
    "import torch\n",
    "import torchvision.datasets as dsets\n",
    "import torchvision.transforms as transforms\n",
    "import torch.nn.init\n",
    "from torch.utils.data import Dataset, DataLoader"
   ]
  },
  {
   "cell_type": "markdown",
   "id": "activated-accessory",
   "metadata": {},
   "source": [
    "### need visdom server"
   ]
  },
  {
   "cell_type": "code",
   "execution_count": 2,
   "id": "ready-france",
   "metadata": {},
   "outputs": [],
   "source": [
    "# import visdom\n",
    "\n",
    "# vls = visdom.Visdom()\n",
    "# vls.close(env = \"main\")\n",
    "\n",
    "# def loss_tracker(loss_plot, loss_value, num):\n",
    "#     vls.line(X = num, Y = loss_value, win = loss_plot, update = \"append\")"
   ]
  },
  {
   "cell_type": "code",
   "execution_count": 3,
   "id": "surprised-charleston",
   "metadata": {},
   "outputs": [
    {
     "name": "stdout",
     "output_type": "stream",
     "text": [
      "cuda\n"
     ]
    }
   ],
   "source": [
    "device = \"cuda\" if torch.cuda.is_available() else \"cpu\"\n",
    "\n",
    "torch.manual_seed(777)\n",
    "if device == \"cuda\":\n",
    "    torch.cuda.manual_seed_all(777)\n",
    "\n",
    "print(device)"
   ]
  },
  {
   "cell_type": "code",
   "execution_count": 4,
   "id": "following-response",
   "metadata": {},
   "outputs": [],
   "source": [
    "# parameters\n",
    "learning_rate = 0.001\n",
    "epochs = 15\n",
    "batch_size = 100"
   ]
  },
  {
   "cell_type": "code",
   "execution_count": 5,
   "id": "considered-eagle",
   "metadata": {},
   "outputs": [],
   "source": [
    "#MNIST dataset\n",
    "\n",
    "mnist_train = dsets.MNIST(root=\"MNIST_data/\", train=True, transform=transforms.ToTensor(), download=True)\n",
    "mnist_test = dsets.MNIST(root=\"MNIST_data/\", train=False, transform=transforms.ToTensor(), download=True)"
   ]
  },
  {
   "cell_type": "code",
   "execution_count": 6,
   "id": "alike-midwest",
   "metadata": {},
   "outputs": [],
   "source": [
    "# data loader\n",
    "data_loader = DataLoader(dataset = mnist_train, batch_size = batch_size, shuffle = True, drop_last = True)"
   ]
  },
  {
   "cell_type": "code",
   "execution_count": 7,
   "id": "arbitrary-national",
   "metadata": {},
   "outputs": [],
   "source": [
    "# model create\n",
    "class CNN(torch.nn.Module):\n",
    "    \n",
    "    def __init__(self):\n",
    "        super(CNN, self).__init__()\n",
    "        relu = torch.nn.ReLU()\n",
    "        maxpool = torch.nn.MaxPool2d(2)\n",
    "        self.layer1 = torch.nn.Sequential(torch.nn.Conv2d(1, 32, kernel_size = 3, stride = 1, padding = 1), relu, maxpool)\n",
    "        self.layer2 = torch.nn.Sequential(torch.nn.Conv2d(32, 64, kernel_size = 3, stride = 1, padding = 1), relu, maxpool)\n",
    "        # view를 사용해 conv layer의 결과를 fc통과를 위해 1차원을 펴줘야한다. (batch_size, -1)\n",
    "        self.fc = torch.nn.Linear(7 * 7 * 64, 10, bias = True)\n",
    "        torch.nn.init.xavier_uniform_(self.fc.weight)\n",
    "        \n",
    "    def forward(self, x):\n",
    "        out = self.layer1(x)\n",
    "        out = self.layer2(out)\n",
    "        \n",
    "        out = out.view(out.size(0), -1)\n",
    "        out = self.fc(out)\n",
    "        return out"
   ]
  },
  {
   "cell_type": "code",
   "execution_count": 8,
   "id": "informative-group",
   "metadata": {},
   "outputs": [],
   "source": [
    "model = CNN().to(device)"
   ]
  },
  {
   "cell_type": "code",
   "execution_count": 9,
   "id": "deluxe-morris",
   "metadata": {},
   "outputs": [],
   "source": [
    "criterion = torch.nn.CrossEntropyLoss().to(device)\n",
    "optimizer = torch.optim.Adam(model.parameters(), lr = learning_rate)"
   ]
  },
  {
   "cell_type": "code",
   "execution_count": 10,
   "id": "indie-toyota",
   "metadata": {},
   "outputs": [],
   "source": [
    "# need visdom server on\n",
    "# loss_plt = vls.line(Y = torch.Tensor(1).zero_(), opts = dict(title = \"loss_tracker\", legend = [\"loss\"], showlegend = True))"
   ]
  },
  {
   "cell_type": "code",
   "execution_count": 11,
   "id": "informal-grace",
   "metadata": {},
   "outputs": [
    {
     "name": "stdout",
     "output_type": "stream",
     "text": [
      "Epoch: 0/15 cost: 0.2203698754310608 \n",
      "Epoch: 1/15 cost: 0.06091485172510147 \n",
      "Epoch: 2/15 cost: 0.046026792377233505 \n",
      "Epoch: 3/15 cost: 0.03662533313035965 \n",
      "Epoch: 4/15 cost: 0.029923712834715843 \n",
      "Epoch: 5/15 cost: 0.026077285408973694 \n",
      "Epoch: 6/15 cost: 0.020586222410202026 \n",
      "Epoch: 7/15 cost: 0.018512621521949768 \n",
      "Epoch: 8/15 cost: 0.015310007147490978 \n",
      "Epoch: 9/15 cost: 0.012990032322704792 \n",
      "Epoch: 10/15 cost: 0.011465680785477161 \n",
      "Epoch: 11/15 cost: 0.008422893472015858 \n",
      "Epoch: 12/15 cost: 0.00866619125008583 \n",
      "Epoch: 13/15 cost: 0.006366122514009476 \n",
      "Epoch: 14/15 cost: 0.006272963248193264 \n"
     ]
    }
   ],
   "source": [
    "# training\n",
    "\n",
    "total_batch = len(data_loader)\n",
    "\n",
    "for epoch in range(epochs):\n",
    "    avg_cost = 0\n",
    "    for X, Y in data_loader:\n",
    "        X = X.to(device)\n",
    "        Y = Y.to(device)\n",
    "        \n",
    "        optimizer.zero_grad()\n",
    "        predict = model(X)\n",
    "        cost = criterion(predict, Y)\n",
    "        cost.backward()\n",
    "        optimizer.step()\n",
    "        \n",
    "        avg_cost += cost / total_batch\n",
    "        \n",
    "    print(f\"Epoch: {epoch}/{epochs} cost: {avg_cost} \")\n",
    "     \n",
    "    # need visdom server on\n",
    "    # loss_tracker(loss_plt, torch.Tensor([avg_cost]), torch.Tensor([epoch]))"
   ]
  },
  {
   "cell_type": "code",
   "execution_count": 12,
   "id": "permanent-clinton",
   "metadata": {},
   "outputs": [
    {
     "name": "stdout",
     "output_type": "stream",
     "text": [
      "Accuracy: 0.9893001317977905\n"
     ]
    }
   ],
   "source": [
    "test_loader = DataLoader(dataset = mnist_test, batch_size = batch_size, shuffle = False)\n",
    "\n",
    "with torch.no_grad():\n",
    "    # cuda 메모리 부족..\n",
    "    #X = mnist_test.test_data.view(len(mnist_test), 1, 28, 28).float().to(device)\n",
    "    #Y = mnist_test.test_labels.to(device)\n",
    "    sum = 0\n",
    "    total_batch = len(test_loader)\n",
    "    for X, Y in test_loader:\n",
    "        X = X.to(device)\n",
    "        Y = Y.to(device)\n",
    "        predict = model(X)\n",
    "        correct = torch.argmax(predict, 1) == Y\n",
    "        sum += correct.float().mean()\n",
    "    accuracy = sum / total_batch\n",
    "    print(f\"Accuracy: {accuracy}\")"
   ]
  }
 ],
 "metadata": {
  "kernelspec": {
   "display_name": "Python 3",
   "language": "python",
   "name": "python3"
  },
  "language_info": {
   "codemirror_mode": {
    "name": "ipython",
    "version": 3
   },
   "file_extension": ".py",
   "mimetype": "text/x-python",
   "name": "python",
   "nbconvert_exporter": "python",
   "pygments_lexer": "ipython3",
   "version": "3.7.9"
  }
 },
 "nbformat": 4,
 "nbformat_minor": 5
}
