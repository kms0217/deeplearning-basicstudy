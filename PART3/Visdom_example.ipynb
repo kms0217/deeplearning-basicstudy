{
 "cells": [
  {
   "cell_type": "code",
   "execution_count": 1,
   "id": "flying-spending",
   "metadata": {},
   "outputs": [],
   "source": [
    "import torch\n",
    "import torch.nn as nn\n",
    "from torchvision import transforms\n",
    "import torchvision\n",
    "import torchvision.datasets as dsets\n",
    "from torch.utils.data import DataLoader"
   ]
  },
  {
   "cell_type": "code",
   "execution_count": 2,
   "id": "likely-composition",
   "metadata": {},
   "outputs": [
    {
     "name": "stderr",
     "output_type": "stream",
     "text": [
      "Setting up a new session...\n"
     ]
    }
   ],
   "source": [
    "import visdom\n",
    "# visdom server실행해야함\n",
    "vls = visdom.Visdom()"
   ]
  },
  {
   "cell_type": "markdown",
   "id": "matched-block",
   "metadata": {},
   "source": [
    "# text 출력"
   ]
  },
  {
   "cell_type": "code",
   "execution_count": 3,
   "id": "august-claim",
   "metadata": {},
   "outputs": [
    {
     "data": {
      "text/plain": [
       "'window_394ea180d4a728'"
      ]
     },
     "execution_count": 3,
     "metadata": {},
     "output_type": "execute_result"
    }
   ],
   "source": [
    "vls.text(\"Hello\", env=\"main\")\n",
    "# vls.close(env=\"main\") evn가 main인 창 다 닫기, defalut는 main"
   ]
  },
  {
   "cell_type": "markdown",
   "id": "found-montana",
   "metadata": {},
   "source": [
    "# image 출력"
   ]
  },
  {
   "cell_type": "code",
   "execution_count": 4,
   "id": "optimum-hopkins",
   "metadata": {},
   "outputs": [
    {
     "data": {
      "text/plain": [
       "'window_394ea180e1472e'"
      ]
     },
     "execution_count": 4,
     "metadata": {},
     "output_type": "execute_result"
    }
   ],
   "source": [
    "# 1개\n",
    "a = torch.rand(3, 200, 200)\n",
    "vls.image(a)\n",
    "\n",
    "# 여러개\n",
    "b = torch.Tensor(3,3,28,28)\n",
    "vls.images(b)"
   ]
  },
  {
   "cell_type": "markdown",
   "id": "genetic-elements",
   "metadata": {},
   "source": [
    "# dataset 준비"
   ]
  },
  {
   "cell_type": "code",
   "execution_count": 5,
   "id": "shared-guitar",
   "metadata": {},
   "outputs": [
    {
     "name": "stdout",
     "output_type": "stream",
     "text": [
      "Files already downloaded and verified\n"
     ]
    }
   ],
   "source": [
    "mnist_data = dsets.MNIST(root=\"MNIST_data/\", train=True, transform=transforms.ToTensor(), download=True)\n",
    "cifar10 = dsets.CIFAR10(root=\"cifar10\", train = True, transform=transforms.ToTensor(), download=True)"
   ]
  },
  {
   "cell_type": "markdown",
   "id": "electronic-camel",
   "metadata": {},
   "source": [
    "# CIFAR10"
   ]
  },
  {
   "cell_type": "code",
   "execution_count": 6,
   "id": "scenic-sharing",
   "metadata": {},
   "outputs": [
    {
     "name": "stdout",
     "output_type": "stream",
     "text": [
      "torch.Size([3, 32, 32])\n"
     ]
    },
    {
     "data": {
      "text/plain": [
       "'window_394ea181675972'"
      ]
     },
     "execution_count": 6,
     "metadata": {},
     "output_type": "execute_result"
    }
   ],
   "source": [
    "data = cifar10.__getitem__(0)\n",
    "print(data[0].shape)\n",
    "vls.images(data[0], env=\"main\")"
   ]
  },
  {
   "cell_type": "markdown",
   "id": "patient-punch",
   "metadata": {},
   "source": [
    "# MNIST"
   ]
  },
  {
   "cell_type": "code",
   "execution_count": 7,
   "id": "foster-prescription",
   "metadata": {},
   "outputs": [
    {
     "name": "stdout",
     "output_type": "stream",
     "text": [
      "torch.Size([1, 28, 28])\n"
     ]
    },
    {
     "data": {
      "text/plain": [
       "'window_394ea18169b97a'"
      ]
     },
     "execution_count": 7,
     "metadata": {},
     "output_type": "execute_result"
    }
   ],
   "source": [
    "data = mnist_data.__getitem__(0)\n",
    "print(data[0].shape)\n",
    "vls.images(data[0], env=\"main\")"
   ]
  },
  {
   "cell_type": "markdown",
   "id": "nonprofit-pavilion",
   "metadata": {},
   "source": [
    "### data loader"
   ]
  },
  {
   "cell_type": "code",
   "execution_count": 8,
   "id": "residential-single",
   "metadata": {},
   "outputs": [
    {
     "name": "stdout",
     "output_type": "stream",
     "text": [
      "torch.Size([32, 1, 28, 28])\n"
     ]
    }
   ],
   "source": [
    "data_loader = DataLoader(dataset = mnist_data, batch_size = 32, shuffle = False)\n",
    "for num, value in enumerate(data_loader):\n",
    "    value = value[0]\n",
    "    print(value.shape)\n",
    "    vls.images(value)\n",
    "    # 하나의 batch만 출력 후 종료\n",
    "    break"
   ]
  },
  {
   "cell_type": "markdown",
   "id": "substantial-dating",
   "metadata": {},
   "source": [
    "# Line Plot"
   ]
  },
  {
   "cell_type": "code",
   "execution_count": 9,
   "id": "stunning-dining",
   "metadata": {},
   "outputs": [],
   "source": [
    "Y = torch.randn(5)\n",
    "# x를 넣지않으면 X값은 무조건 0 ~ 1\n",
    "plt = vls.line(Y = Y)\n",
    "\n",
    "X = torch.Tensor([1,2,3,4,5])\n",
    "plt = vls.line(Y=Y, X=X)"
   ]
  },
  {
   "cell_type": "markdown",
   "id": "incorporate-portuguese",
   "metadata": {},
   "source": [
    "### Line update"
   ]
  },
  {
   "cell_type": "code",
   "execution_count": 10,
   "id": "extra-employment",
   "metadata": {},
   "outputs": [
    {
     "data": {
      "text/plain": [
       "'window_394ea181763596'"
      ]
     },
     "execution_count": 10,
     "metadata": {},
     "output_type": "execute_result"
    }
   ],
   "source": [
    "Y_append = torch.randn(1)\n",
    "X_append = torch.Tensor([6])\n",
    "\n",
    "# plt에 X_append, Y_append를 append방식으로 update\n",
    "vls.line(Y=Y_append, X=X_append, win=plt, update=\"append\") "
   ]
  },
  {
   "cell_type": "markdown",
   "id": "joint-sapphire",
   "metadata": {},
   "source": [
    "### multi line\n",
    "x와 y의 shape가 같아야한다."
   ]
  },
  {
   "cell_type": "code",
   "execution_count": 11,
   "id": "greater-sunset",
   "metadata": {},
   "outputs": [],
   "source": [
    "num = torch.Tensor(list(range(0,10)))\n",
    "num = num.view(-1, 1)\n",
    "num = torch.cat((num, num),dim = 1)\n",
    "\n",
    "plt = vls.line(Y = torch.randn(10, 2), X = num)"
   ]
  },
  {
   "cell_type": "markdown",
   "id": "cognitive-aluminum",
   "metadata": {},
   "source": [
    "### Line info\n",
    "- option을 dict형태로 줘서 사용할 수 있다.\n",
    "- showlegend 옵션을 사용해 범례를 추가할 수 있고, legend를 list형태로 주어 각 line의 이름을 작성할 수 있다."
   ]
  },
  {
   "cell_type": "code",
   "execution_count": 12,
   "id": "adjusted-moderator",
   "metadata": {},
   "outputs": [],
   "source": [
    "plt = vls.line(Y=Y, X=X, opts = dict(title = \"Test\", showlegend = True))\n",
    "\n",
    "plt = vls.line(Y=Y, X=X, opts = dict(title = \"Test\", legend = [\"1번\"], showlegend = True))\n",
    "\n",
    "plt = vls.line(Y=torch.randn(10, 2), X = num, opts = dict(title = \"Test\", legend = [\"1번\", \"2번\"], showlegend = True))"
   ]
  },
  {
   "cell_type": "markdown",
   "id": "according-modem",
   "metadata": {},
   "source": [
    "# make function (update line)\n",
    "- num과 loss_value는 Tensor이다.\n",
    "- 다음과 같이 함수를 작성해 실시간으로 loss 그래프를 확인할 수 있다."
   ]
  },
  {
   "cell_type": "code",
   "execution_count": 13,
   "id": "based-walnut",
   "metadata": {},
   "outputs": [],
   "source": [
    "def loss_tracker(loss_plot, loss_value, num):\n",
    "    vls.line(X = num, Y = loss_value, win = loss_plot, update = \"append\")\n",
    "    \n",
    "plt = vls.line(Y=torch.Tensor(1).zero_())\n",
    "\n",
    "for i in range(500):\n",
    "    loss = torch.randn(1) + i\n",
    "    loss_tracker(plt, loss, torch.Tensor([i]))"
   ]
  },
  {
   "cell_type": "code",
   "execution_count": 14,
   "id": "allied-intent",
   "metadata": {},
   "outputs": [
    {
     "data": {
      "text/plain": [
       "''"
      ]
     },
     "execution_count": 14,
     "metadata": {},
     "output_type": "execute_result"
    }
   ],
   "source": [
    "vls.close(env=\"main\")"
   ]
  }
 ],
 "metadata": {
  "kernelspec": {
   "display_name": "Python 3",
   "language": "python",
   "name": "python3"
  },
  "language_info": {
   "codemirror_mode": {
    "name": "ipython",
    "version": 3
   },
   "file_extension": ".py",
   "mimetype": "text/x-python",
   "name": "python",
   "nbconvert_exporter": "python",
   "pygments_lexer": "ipython3",
   "version": "3.7.9"
  }
 },
 "nbformat": 4,
 "nbformat_minor": 5
}
