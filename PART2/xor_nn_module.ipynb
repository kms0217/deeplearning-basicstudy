{
 "cells": [
  {
   "cell_type": "code",
   "execution_count": 1,
   "id": "technical-rubber",
   "metadata": {},
   "outputs": [
    {
     "name": "stdout",
     "output_type": "stream",
     "text": [
      "Parameter containing:\n",
      "tensor([[-0.0847, -0.3958],\n",
      "        [ 0.5903,  0.3714]], requires_grad=True) Parameter containing:\n",
      "tensor([[-0.5823,  0.1835]], requires_grad=True)\n",
      "0 0.7233138084411621\n",
      "10000 0.0009991289116442204\n",
      "Hypothesis : [[1.2852754e-03]\n",
      " [9.9910468e-01]\n",
      " [9.9910504e-01]\n",
      " [9.1867539e-04]]\n",
      "Correct: [[0.]\n",
      " [1.]\n",
      " [1.]\n",
      " [0.]]\n",
      "Accuracy: 1.0\n"
     ]
    }
   ],
   "source": [
    "import torch\n",
    "import torch.nn.functional as F\n",
    "import matplotlib.pyplot as plt\n",
    "\n",
    "X = torch.FloatTensor([[0,0], [0,1],[1,0],[1,1]])\n",
    "Y = torch.FloatTensor([[0], [1], [1], [0]])\n",
    "\n",
    "linear1 = torch.nn.Linear(2, 2, bias=True)\n",
    "linear2 = torch.nn.Linear(2, 1, bias=True)\n",
    "sigmoid = torch.nn.Sigmoid()\n",
    "print(linear1.weight, linear2.weight)\n",
    "model = torch.nn.Sequential(linear1, sigmoid, linear2, sigmoid)\n",
    "\n",
    "criterion = torch.nn.BCELoss()\n",
    "optimizer = torch.optim.SGD(model.parameters(), lr=1)\n",
    "\n",
    "for step in range(10001):\n",
    "    optimizer.zero_grad()\n",
    "    hypothesis = model(X)\n",
    "    cost = criterion(hypothesis, Y)\n",
    "    cost.backward()\n",
    "    optimizer.step()\n",
    "    \n",
    "    if step%10000==0:\n",
    "        print(step, cost.item())\n",
    "\n",
    "y_pred = model(X)\n",
    "predicted = (y_pred > 0.5).float()\n",
    "accuracy = (predicted == Y).float().mean()\n",
    "print(f\"Hypothesis : {y_pred.detach().cpu().numpy()}\\nCorrect: {Y.detach().cpu().numpy()}\\nAccuracy: {accuracy.item()}\")"
   ]
  },
  {
   "cell_type": "code",
   "execution_count": null,
   "id": "fossil-jonathan",
   "metadata": {},
   "outputs": [],
   "source": []
  }
 ],
 "metadata": {
  "kernelspec": {
   "display_name": "Python 3",
   "language": "python",
   "name": "python3"
  },
  "language_info": {
   "codemirror_mode": {
    "name": "ipython",
    "version": 3
   },
   "file_extension": ".py",
   "mimetype": "text/x-python",
   "name": "python",
   "nbconvert_exporter": "python",
   "pygments_lexer": "ipython3",
   "version": "3.7.9"
  }
 },
 "nbformat": 4,
 "nbformat_minor": 5
}
