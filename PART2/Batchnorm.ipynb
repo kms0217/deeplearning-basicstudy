{
 "cells": [
  {
   "cell_type": "markdown",
   "id": "ignored-freight",
   "metadata": {},
   "source": [
    "# Batch Normalization을 하는 모델과 안하는 모델의 loss비교\n",
    "### MNIST Data 읽어오기"
   ]
  },
  {
   "cell_type": "code",
   "execution_count": 1,
   "id": "federal-topic",
   "metadata": {},
   "outputs": [],
   "source": [
    "import matplotlib.pyplot as plt\n",
    "import torchvision.datasets as dsets\n",
    "from torchvision import transforms\n",
    "from torch.utils.data import Dataset, DataLoader\n",
    "import torch\n",
    "import numpy as np\n",
    "\n",
    "# MNINST 데이터 셋 읽어오기\n",
    "mnist_train = dsets.MNIST(root=\"MNIST_data/\", train=True, transform=transforms.ToTensor(), download=True)\n",
    "mnist_test = dsets.MNIST(root=\"MNIST_data/\", train=False, transform=transforms.ToTensor(), download=True)\n",
    "\n",
    "batch_size = 100\n",
    "# DataLoader생성 (iterator)\n",
    "data_loader = DataLoader(mnist_train, batch_size=batch_size, shuffle=True, drop_last=True)"
   ]
  },
  {
   "cell_type": "markdown",
   "id": "automotive-grenada",
   "metadata": {},
   "source": [
    "### model, optimizer, loss function 작성"
   ]
  },
  {
   "cell_type": "code",
   "execution_count": 2,
   "id": "appreciated-headline",
   "metadata": {},
   "outputs": [],
   "source": [
    "linear1 = torch.nn.Linear(784, 32, bias = True)\n",
    "linear2 = torch.nn.Linear(32, 32, bias = True)\n",
    "linear3 = torch.nn.Linear(32, 10, bias = True)\n",
    "\n",
    "relu = torch.nn.ReLU()\n",
    "bn1 = torch.nn.BatchNorm1d(32)\n",
    "bn2 = torch.nn.BatchNorm1d(32)\n",
    "\n",
    "nn_linear1 = torch.nn.Linear(784, 32, bias = True)\n",
    "nn_linear2 = torch.nn.Linear(32, 32, bias = True)\n",
    "nn_linear3 = torch.nn.Linear(32, 10, bias = True)\n",
    "\n",
    "# Batch Normalization model\n",
    "bn_model = torch.nn.Sequential(linear1, bn1, relu,\n",
    "                               linear2, bn2, relu,\n",
    "                               linear3)\n",
    "# None Batch Normalization model\n",
    "nn_model = torch.nn.Sequential(nn_linear1, relu,\n",
    "                               nn_linear2, relu,\n",
    "                               nn_linear3)\n",
    "\n",
    "# crossentropy cost사용, pytorch에서는 CrossEntropy가 softmax를 자동으로 계산해줌\n",
    "criterion = torch.nn.CrossEntropyLoss()\n",
    "bn_optimizer = torch.optim.SGD(bn_model.parameters(), lr=0.1)\n",
    "nn_optimizer = torch.optim.SGD(nn_model.parameters(), lr=0.1)"
   ]
  },
  {
   "cell_type": "markdown",
   "id": "affecting-musician",
   "metadata": {},
   "source": [
    "### 학습 진행"
   ]
  },
  {
   "cell_type": "code",
   "execution_count": 3,
   "id": "civic-cheat",
   "metadata": {},
   "outputs": [
    {
     "name": "stdout",
     "output_type": "stream",
     "text": [
      "epoch : 10/1 : bn_loss : 0.9065, nn_loss : 2.0354\n",
      "epoch : 10/2 : bn_loss : 0.6204, nn_loss : 1.3744\n",
      "epoch : 10/3 : bn_loss : 0.4712, nn_loss : 1.1604\n",
      "epoch : 10/4 : bn_loss : 0.4299, nn_loss : 0.9665\n",
      "epoch : 10/5 : bn_loss : 0.3742, nn_loss : 0.8412\n",
      "epoch : 10/6 : bn_loss : 0.3256, nn_loss : 0.7445\n",
      "epoch : 10/7 : bn_loss : 0.3157, nn_loss : 0.7468\n",
      "epoch : 10/8 : bn_loss : 0.2898, nn_loss : 0.7096\n",
      "epoch : 10/9 : bn_loss : 0.2593, nn_loss : 0.5801\n",
      "epoch : 10/10 : bn_loss : 0.2580, nn_loss : 0.4939\n"
     ]
    }
   ],
   "source": [
    "epochs = 10\n",
    "# 그래프로 비교하기위해 모델별 loss값을 저장할 list생성\n",
    "bn_loss_list = []\n",
    "nn_loss_list = []\n",
    "for epoch in range(epochs):\n",
    "    bn_model.train() #  trainning mode\n",
    "\n",
    "    for X, Y in data_loader:\n",
    "        X = X.view(-1, 28 * 28)\n",
    "        Y = Y\n",
    "        \n",
    "        bn_optimizer.zero_grad()\n",
    "        bn_prediction = bn_model(X)\n",
    "        bn_loss = criterion(bn_prediction, Y)\n",
    "        bn_loss.backward()\n",
    "        bn_optimizer.step()\n",
    "        \n",
    "        nn_optimizer.zero_grad()\n",
    "        nn_prediction = nn_model(X)\n",
    "        nn_loss = criterion(nn_prediction, Y)\n",
    "        nn_loss.backward()\n",
    "        nn_optimizer.step()    \n",
    "\n",
    "    with torch.no_grad():\n",
    "        bn_model.eval() # evaluation mode\n",
    "        \n",
    "        bn_loss, nn_loss, bn_acc, nn_acc = 0, 0, 0, 0\n",
    "        for X, Y in data_loader:\n",
    "            X = X.view(-1, 28 * 28)\n",
    "            bn_prediction = bn_model(X)\n",
    "            bn_correct_prediction = torch.argmax(bn_prediction, 1) == Y\n",
    "            bn_loss += criterion(bn_prediction, Y)\n",
    "            bn_acc += bn_correct_prediction.float().mean()\n",
    "\n",
    "            nn_prediction = nn_model(X)\n",
    "            nn_correct_prediction = torch.argmax(nn_prediction, 1) == Y\n",
    "            nn_loss += criterion(nn_prediction, Y)\n",
    "            nn_acc += nn_correct_prediction.float().mean()\n",
    "        bn_loss = bn_loss / batch_size\n",
    "        nn_loss = nn_loss / batch_size\n",
    "    bn_loss_list.append(bn_loss)\n",
    "    nn_loss_list.append(nn_loss)\n",
    "\n",
    "    print(f\"epoch : {epochs}/{epoch + 1} : bn_loss : {bn_loss:.4f}, nn_loss : {nn_loss:.4f}\")"
   ]
  },
  {
   "cell_type": "markdown",
   "id": "stretch-aerospace",
   "metadata": {},
   "source": [
    "### 누적시킨 loss를 비교"
   ]
  },
  {
   "cell_type": "code",
   "execution_count": 4,
   "id": "arranged-carroll",
   "metadata": {},
   "outputs": [
    {
     "data": {
      "image/png": "[encoded data removed]",
      "text/plain": [
       "<Figure size 432x288 with 1 Axes>"
      ]
     },
     "metadata": {
      "needs_background": "light"
     },
     "output_type": "display_data"
    }
   ],
   "source": [
    "plt.plot(bn_loss_list, label=\"BN\")\n",
    "plt.plot(nn_loss_list, label=\"NN\")\n",
    "plt.legend()\n",
    "plt.grid(\"on\")\n",
    "plt.show()"
   ]
  },
  {
   "cell_type": "code",
   "execution_count": null,
   "id": "attended-concept",
   "metadata": {},
   "outputs": [],
   "source": []
  }
 ],
 "metadata": {
  "kernelspec": {
   "display_name": "Python 3",
   "language": "python",
   "name": "python3"
  },
  "language_info": {
   "codemirror_mode": {
    "name": "ipython",
    "version": 3
   },
   "file_extension": ".py",
   "mimetype": "text/x-python",
   "name": "python",
   "nbconvert_exporter": "python",
   "pygments_lexer": "ipython3",
   "version": "3.7.9"
  }
 },
 "nbformat": 4,
 "nbformat_minor": 5
}
